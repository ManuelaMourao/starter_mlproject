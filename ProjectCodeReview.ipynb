{
  "nbformat": 4,
  "nbformat_minor": 0,
  "metadata": {
    "colab": {
      "provenance": []
    },
    "kernelspec": {
      "name": "python3",
      "display_name": "Python 3"
    },
    "language_info": {
      "name": "python"
    }
  },
  "cells": [
    {
      "cell_type": "markdown",
      "source": [
        "# Toxic Code Review Model\n",
        "\n",
        "For this we are going to use a dataset of code review comments that are labeled as 'toxic' or 'non-toxic'. The labels are binary, so 'toxic' is 1 and 'non-toxic' is 0. The dataset and paper can be found here:\n",
        "\n",
        "https://github.com/WSU-SEAL/ToxiCR\n",
        "\n",
        "We will need to:\n",
        "1. Pre-process the data.\n",
        "2. Train a model on part of the dataset.\n",
        "3. Evaluate the model on the rest of the dataset.\n",
        "4. (Next) Try the model on other datasets, or new code reviews on GitHub.\n",
        "5. (Next) Try different types of models and compare them.\n"
      ],
      "metadata": {
        "id": "PJInehaj6t-7"
      }
    },
    {
      "cell_type": "code",
      "source": [
        "from google.colab import drive\n",
        "drive.mount('/content/drive')"
      ],
      "metadata": {
        "id": "XZz66b0sy9Je",
        "outputId": "9ec84e70-dcc9-421d-a0b5-cc6998656279",
        "colab": {
          "base_uri": "https://localhost:8080/"
        }
      },
      "execution_count": null,
      "outputs": [
        {
          "output_type": "stream",
          "name": "stdout",
          "text": [
            "Drive already mounted at /content/drive; to attempt to forcibly remount, call drive.mount(\"/content/drive\", force_remount=True).\n"
          ]
        }
      ]
    },
    {
      "cell_type": "markdown",
      "source": [
        "## Load and examine the data.\n",
        "\n",
        "Goal: For this section, we will want to load the data from the excel sheet, and learn a few basic statistics on the dataset.\n",
        "\n",
        "1. Download the excel dataset at [code-review-dataset-full.xlsx](https://github.com/WSU-SEAL/ToxiCR/blob/master/models/code-review-dataset-full.xlsx).\n",
        "\n",
        "2. Load the dataset into this colab. On the left side you will see a file icon on this page, click on it, and then press the file upload button and select the downloaded file.\n",
        "\n",
        "3. Load the dataset into the runtime with code. Here we will use [pandas](https://pandas.pydata.org/docs/user_guide/index.html) again."
      ],
      "metadata": {
        "id": "XttR9Ps4UsMz"
      }
    },
    {
      "cell_type": "code",
      "execution_count": null,
      "metadata": {
        "id": "WUpK_c4T6kOO"
      },
      "outputs": [],
      "source": [
        "import pandas as pd\n",
        "import numpy as np\n",
        "import re\n",
        "from nltk.stem import SnowballStemmer\n",
        "from nltk.corpus import stopwords\n",
        "from sklearn.feature_extraction import text\n",
        "from sklearn.feature_extraction.text import TfidfVectorizer"
      ]
    },
    {
      "cell_type": "markdown",
      "source": [
        "In pandas, we work with objects called [DataFrames](https://pandas.pydata.org/docs/user_guide/dsintro.html#dataframee). These are two-dimensional (rows and columns, like matrices) structures that hold data. Load the data into a pandas DataFrame (hint: use [reading excel files](https://pandas.pydata.org/docs/user_guide/io.html#reading-excel-files))."
      ],
      "metadata": {
        "id": "IGZ9MON6Wz7d"
      }
    },
    {
      "cell_type": "code",
      "source": [
        "# Write a function that returns a dataframe from the excel file:\n",
        "def get_dataframe_from_excel(file):\n",
        "  review_data_file = pd.read_excel('code-review-dataset-full.xlsx')\n",
        "\n",
        "  return review_data_file\n",
        "\n",
        "# Note: you may need to update the name here\n",
        "toxic_df = get_dataframe_from_excel('ode-review-dataset-full.xlsx')\n",
        "toxic_df"
      ],
      "metadata": {
        "colab": {
          "base_uri": "https://localhost:8080/",
          "height": 423
        },
        "id": "65v5R8fkWxEy",
        "outputId": "3dcfe32d-2edf-4698-89aa-04848d4cfe6f"
      },
      "execution_count": null,
      "outputs": [
        {
          "output_type": "execute_result",
          "data": {
            "text/plain": [
              "                                                 message  is_toxic\n",
              "0      This and below assignments also should be removed         0\n",
              "1              this should be flavor_id = self.flavor_id         0\n",
              "2                         bool session_adopted_ = false;         0\n",
              "3      nit: Starting C++11, this could be done direct...         0\n",
              "4      I am confused.\\n \\n This is the tar process we...         0\n",
              "...                                                  ...       ...\n",
              "19646  Amazing!!! I bet that contributed a lot to our...         0\n",
              "19647                                        great catch         0\n",
              "19648                             Wow, this is amazing.          0\n",
              "19649                                   This is awesome.         0\n",
              "19650  Can't wait for this! Seeing the nuances there ...         0\n",
              "\n",
              "[19651 rows x 2 columns]"
            ],
            "text/html": [
              "\n",
              "  <div id=\"df-e905b622-3f42-4189-b276-0087976c83cd\" class=\"colab-df-container\">\n",
              "    <div>\n",
              "<style scoped>\n",
              "    .dataframe tbody tr th:only-of-type {\n",
              "        vertical-align: middle;\n",
              "    }\n",
              "\n",
              "    .dataframe tbody tr th {\n",
              "        vertical-align: top;\n",
              "    }\n",
              "\n",
              "    .dataframe thead th {\n",
              "        text-align: right;\n",
              "    }\n",
              "</style>\n",
              "<table border=\"1\" class=\"dataframe\">\n",
              "  <thead>\n",
              "    <tr style=\"text-align: right;\">\n",
              "      <th></th>\n",
              "      <th>message</th>\n",
              "      <th>is_toxic</th>\n",
              "    </tr>\n",
              "  </thead>\n",
              "  <tbody>\n",
              "    <tr>\n",
              "      <th>0</th>\n",
              "      <td>This and below assignments also should be removed</td>\n",
              "      <td>0</td>\n",
              "    </tr>\n",
              "    <tr>\n",
              "      <th>1</th>\n",
              "      <td>this should be flavor_id = self.flavor_id</td>\n",
              "      <td>0</td>\n",
              "    </tr>\n",
              "    <tr>\n",
              "      <th>2</th>\n",
              "      <td>bool session_adopted_ = false;</td>\n",
              "      <td>0</td>\n",
              "    </tr>\n",
              "    <tr>\n",
              "      <th>3</th>\n",
              "      <td>nit: Starting C++11, this could be done direct...</td>\n",
              "      <td>0</td>\n",
              "    </tr>\n",
              "    <tr>\n",
              "      <th>4</th>\n",
              "      <td>I am confused.\\n \\n This is the tar process we...</td>\n",
              "      <td>0</td>\n",
              "    </tr>\n",
              "    <tr>\n",
              "      <th>...</th>\n",
              "      <td>...</td>\n",
              "      <td>...</td>\n",
              "    </tr>\n",
              "    <tr>\n",
              "      <th>19646</th>\n",
              "      <td>Amazing!!! I bet that contributed a lot to our...</td>\n",
              "      <td>0</td>\n",
              "    </tr>\n",
              "    <tr>\n",
              "      <th>19647</th>\n",
              "      <td>great catch</td>\n",
              "      <td>0</td>\n",
              "    </tr>\n",
              "    <tr>\n",
              "      <th>19648</th>\n",
              "      <td>Wow, this is amazing.</td>\n",
              "      <td>0</td>\n",
              "    </tr>\n",
              "    <tr>\n",
              "      <th>19649</th>\n",
              "      <td>This is awesome.</td>\n",
              "      <td>0</td>\n",
              "    </tr>\n",
              "    <tr>\n",
              "      <th>19650</th>\n",
              "      <td>Can't wait for this! Seeing the nuances there ...</td>\n",
              "      <td>0</td>\n",
              "    </tr>\n",
              "  </tbody>\n",
              "</table>\n",
              "<p>19651 rows × 2 columns</p>\n",
              "</div>\n",
              "    <div class=\"colab-df-buttons\">\n",
              "\n",
              "  <div class=\"colab-df-container\">\n",
              "    <button class=\"colab-df-convert\" onclick=\"convertToInteractive('df-e905b622-3f42-4189-b276-0087976c83cd')\"\n",
              "            title=\"Convert this dataframe to an interactive table.\"\n",
              "            style=\"display:none;\">\n",
              "\n",
              "  <svg xmlns=\"http://www.w3.org/2000/svg\" height=\"24px\" viewBox=\"0 -960 960 960\">\n",
              "    <path d=\"M120-120v-720h720v720H120Zm60-500h600v-160H180v160Zm220 220h160v-160H400v160Zm0 220h160v-160H400v160ZM180-400h160v-160H180v160Zm440 0h160v-160H620v160ZM180-180h160v-160H180v160Zm440 0h160v-160H620v160Z\"/>\n",
              "  </svg>\n",
              "    </button>\n",
              "\n",
              "  <style>\n",
              "    .colab-df-container {\n",
              "      display:flex;\n",
              "      gap: 12px;\n",
              "    }\n",
              "\n",
              "    .colab-df-convert {\n",
              "      background-color: #E8F0FE;\n",
              "      border: none;\n",
              "      border-radius: 50%;\n",
              "      cursor: pointer;\n",
              "      display: none;\n",
              "      fill: #1967D2;\n",
              "      height: 32px;\n",
              "      padding: 0 0 0 0;\n",
              "      width: 32px;\n",
              "    }\n",
              "\n",
              "    .colab-df-convert:hover {\n",
              "      background-color: #E2EBFA;\n",
              "      box-shadow: 0px 1px 2px rgba(60, 64, 67, 0.3), 0px 1px 3px 1px rgba(60, 64, 67, 0.15);\n",
              "      fill: #174EA6;\n",
              "    }\n",
              "\n",
              "    .colab-df-buttons div {\n",
              "      margin-bottom: 4px;\n",
              "    }\n",
              "\n",
              "    [theme=dark] .colab-df-convert {\n",
              "      background-color: #3B4455;\n",
              "      fill: #D2E3FC;\n",
              "    }\n",
              "\n",
              "    [theme=dark] .colab-df-convert:hover {\n",
              "      background-color: #434B5C;\n",
              "      box-shadow: 0px 1px 3px 1px rgba(0, 0, 0, 0.15);\n",
              "      filter: drop-shadow(0px 1px 2px rgba(0, 0, 0, 0.3));\n",
              "      fill: #FFFFFF;\n",
              "    }\n",
              "  </style>\n",
              "\n",
              "    <script>\n",
              "      const buttonEl =\n",
              "        document.querySelector('#df-e905b622-3f42-4189-b276-0087976c83cd button.colab-df-convert');\n",
              "      buttonEl.style.display =\n",
              "        google.colab.kernel.accessAllowed ? 'block' : 'none';\n",
              "\n",
              "      async function convertToInteractive(key) {\n",
              "        const element = document.querySelector('#df-e905b622-3f42-4189-b276-0087976c83cd');\n",
              "        const dataTable =\n",
              "          await google.colab.kernel.invokeFunction('convertToInteractive',\n",
              "                                                    [key], {});\n",
              "        if (!dataTable) return;\n",
              "\n",
              "        const docLinkHtml = 'Like what you see? Visit the ' +\n",
              "          '<a target=\"_blank\" href=https://colab.research.google.com/notebooks/data_table.ipynb>data table notebook</a>'\n",
              "          + ' to learn more about interactive tables.';\n",
              "        element.innerHTML = '';\n",
              "        dataTable['output_type'] = 'display_data';\n",
              "        await google.colab.output.renderOutput(dataTable, element);\n",
              "        const docLink = document.createElement('div');\n",
              "        docLink.innerHTML = docLinkHtml;\n",
              "        element.appendChild(docLink);\n",
              "      }\n",
              "    </script>\n",
              "  </div>\n",
              "\n",
              "\n",
              "<div id=\"df-b386d902-fae9-44a8-bf81-5a74df95da27\">\n",
              "  <button class=\"colab-df-quickchart\" onclick=\"quickchart('df-b386d902-fae9-44a8-bf81-5a74df95da27')\"\n",
              "            title=\"Suggest charts\"\n",
              "            style=\"display:none;\">\n",
              "\n",
              "<svg xmlns=\"http://www.w3.org/2000/svg\" height=\"24px\"viewBox=\"0 0 24 24\"\n",
              "     width=\"24px\">\n",
              "    <g>\n",
              "        <path d=\"M19 3H5c-1.1 0-2 .9-2 2v14c0 1.1.9 2 2 2h14c1.1 0 2-.9 2-2V5c0-1.1-.9-2-2-2zM9 17H7v-7h2v7zm4 0h-2V7h2v10zm4 0h-2v-4h2v4z\"/>\n",
              "    </g>\n",
              "</svg>\n",
              "  </button>\n",
              "\n",
              "<style>\n",
              "  .colab-df-quickchart {\n",
              "      --bg-color: #E8F0FE;\n",
              "      --fill-color: #1967D2;\n",
              "      --hover-bg-color: #E2EBFA;\n",
              "      --hover-fill-color: #174EA6;\n",
              "      --disabled-fill-color: #AAA;\n",
              "      --disabled-bg-color: #DDD;\n",
              "  }\n",
              "\n",
              "  [theme=dark] .colab-df-quickchart {\n",
              "      --bg-color: #3B4455;\n",
              "      --fill-color: #D2E3FC;\n",
              "      --hover-bg-color: #434B5C;\n",
              "      --hover-fill-color: #FFFFFF;\n",
              "      --disabled-bg-color: #3B4455;\n",
              "      --disabled-fill-color: #666;\n",
              "  }\n",
              "\n",
              "  .colab-df-quickchart {\n",
              "    background-color: var(--bg-color);\n",
              "    border: none;\n",
              "    border-radius: 50%;\n",
              "    cursor: pointer;\n",
              "    display: none;\n",
              "    fill: var(--fill-color);\n",
              "    height: 32px;\n",
              "    padding: 0;\n",
              "    width: 32px;\n",
              "  }\n",
              "\n",
              "  .colab-df-quickchart:hover {\n",
              "    background-color: var(--hover-bg-color);\n",
              "    box-shadow: 0 1px 2px rgba(60, 64, 67, 0.3), 0 1px 3px 1px rgba(60, 64, 67, 0.15);\n",
              "    fill: var(--button-hover-fill-color);\n",
              "  }\n",
              "\n",
              "  .colab-df-quickchart-complete:disabled,\n",
              "  .colab-df-quickchart-complete:disabled:hover {\n",
              "    background-color: var(--disabled-bg-color);\n",
              "    fill: var(--disabled-fill-color);\n",
              "    box-shadow: none;\n",
              "  }\n",
              "\n",
              "  .colab-df-spinner {\n",
              "    border: 2px solid var(--fill-color);\n",
              "    border-color: transparent;\n",
              "    border-bottom-color: var(--fill-color);\n",
              "    animation:\n",
              "      spin 1s steps(1) infinite;\n",
              "  }\n",
              "\n",
              "  @keyframes spin {\n",
              "    0% {\n",
              "      border-color: transparent;\n",
              "      border-bottom-color: var(--fill-color);\n",
              "      border-left-color: var(--fill-color);\n",
              "    }\n",
              "    20% {\n",
              "      border-color: transparent;\n",
              "      border-left-color: var(--fill-color);\n",
              "      border-top-color: var(--fill-color);\n",
              "    }\n",
              "    30% {\n",
              "      border-color: transparent;\n",
              "      border-left-color: var(--fill-color);\n",
              "      border-top-color: var(--fill-color);\n",
              "      border-right-color: var(--fill-color);\n",
              "    }\n",
              "    40% {\n",
              "      border-color: transparent;\n",
              "      border-right-color: var(--fill-color);\n",
              "      border-top-color: var(--fill-color);\n",
              "    }\n",
              "    60% {\n",
              "      border-color: transparent;\n",
              "      border-right-color: var(--fill-color);\n",
              "    }\n",
              "    80% {\n",
              "      border-color: transparent;\n",
              "      border-right-color: var(--fill-color);\n",
              "      border-bottom-color: var(--fill-color);\n",
              "    }\n",
              "    90% {\n",
              "      border-color: transparent;\n",
              "      border-bottom-color: var(--fill-color);\n",
              "    }\n",
              "  }\n",
              "</style>\n",
              "\n",
              "  <script>\n",
              "    async function quickchart(key) {\n",
              "      const quickchartButtonEl =\n",
              "        document.querySelector('#' + key + ' button');\n",
              "      quickchartButtonEl.disabled = true;  // To prevent multiple clicks.\n",
              "      quickchartButtonEl.classList.add('colab-df-spinner');\n",
              "      try {\n",
              "        const charts = await google.colab.kernel.invokeFunction(\n",
              "            'suggestCharts', [key], {});\n",
              "      } catch (error) {\n",
              "        console.error('Error during call to suggestCharts:', error);\n",
              "      }\n",
              "      quickchartButtonEl.classList.remove('colab-df-spinner');\n",
              "      quickchartButtonEl.classList.add('colab-df-quickchart-complete');\n",
              "    }\n",
              "    (() => {\n",
              "      let quickchartButtonEl =\n",
              "        document.querySelector('#df-b386d902-fae9-44a8-bf81-5a74df95da27 button');\n",
              "      quickchartButtonEl.style.display =\n",
              "        google.colab.kernel.accessAllowed ? 'block' : 'none';\n",
              "    })();\n",
              "  </script>\n",
              "</div>\n",
              "\n",
              "  <div id=\"id_507c0ded-291b-4f2b-b2a1-1789415a6170\">\n",
              "    <style>\n",
              "      .colab-df-generate {\n",
              "        background-color: #E8F0FE;\n",
              "        border: none;\n",
              "        border-radius: 50%;\n",
              "        cursor: pointer;\n",
              "        display: none;\n",
              "        fill: #1967D2;\n",
              "        height: 32px;\n",
              "        padding: 0 0 0 0;\n",
              "        width: 32px;\n",
              "      }\n",
              "\n",
              "      .colab-df-generate:hover {\n",
              "        background-color: #E2EBFA;\n",
              "        box-shadow: 0px 1px 2px rgba(60, 64, 67, 0.3), 0px 1px 3px 1px rgba(60, 64, 67, 0.15);\n",
              "        fill: #174EA6;\n",
              "      }\n",
              "\n",
              "      [theme=dark] .colab-df-generate {\n",
              "        background-color: #3B4455;\n",
              "        fill: #D2E3FC;\n",
              "      }\n",
              "\n",
              "      [theme=dark] .colab-df-generate:hover {\n",
              "        background-color: #434B5C;\n",
              "        box-shadow: 0px 1px 3px 1px rgba(0, 0, 0, 0.15);\n",
              "        filter: drop-shadow(0px 1px 2px rgba(0, 0, 0, 0.3));\n",
              "        fill: #FFFFFF;\n",
              "      }\n",
              "    </style>\n",
              "    <button class=\"colab-df-generate\" onclick=\"generateWithVariable('toxic_df')\"\n",
              "            title=\"Generate code using this dataframe.\"\n",
              "            style=\"display:none;\">\n",
              "\n",
              "  <svg xmlns=\"http://www.w3.org/2000/svg\" height=\"24px\"viewBox=\"0 0 24 24\"\n",
              "       width=\"24px\">\n",
              "    <path d=\"M7,19H8.4L18.45,9,17,7.55,7,17.6ZM5,21V16.75L18.45,3.32a2,2,0,0,1,2.83,0l1.4,1.43a1.91,1.91,0,0,1,.58,1.4,1.91,1.91,0,0,1-.58,1.4L9.25,21ZM18.45,9,17,7.55Zm-12,3A5.31,5.31,0,0,0,4.9,8.1,5.31,5.31,0,0,0,1,6.5,5.31,5.31,0,0,0,4.9,4.9,5.31,5.31,0,0,0,6.5,1,5.31,5.31,0,0,0,8.1,4.9,5.31,5.31,0,0,0,12,6.5,5.46,5.46,0,0,0,6.5,12Z\"/>\n",
              "  </svg>\n",
              "    </button>\n",
              "    <script>\n",
              "      (() => {\n",
              "      const buttonEl =\n",
              "        document.querySelector('#id_507c0ded-291b-4f2b-b2a1-1789415a6170 button.colab-df-generate');\n",
              "      buttonEl.style.display =\n",
              "        google.colab.kernel.accessAllowed ? 'block' : 'none';\n",
              "\n",
              "      buttonEl.onclick = () => {\n",
              "        google.colab.notebook.generateWithVariable('toxic_df');\n",
              "      }\n",
              "      })();\n",
              "    </script>\n",
              "  </div>\n",
              "\n",
              "    </div>\n",
              "  </div>\n"
            ],
            "application/vnd.google.colaboratory.intrinsic+json": {
              "type": "dataframe",
              "variable_name": "toxic_df",
              "summary": "{\n  \"name\": \"toxic_df\",\n  \"rows\": 19651,\n  \"fields\": [\n    {\n      \"column\": \"message\",\n      \"properties\": {\n        \"dtype\": \"string\",\n        \"num_unique_values\": 12850,\n        \"samples\": [\n          \"This is the only outstanding issue with this CL.\\n\\nThis hack is for demonstration only: It accesses some private variables (could be made public), and doesn't work for RetryStage and RepeatStage (They don't inherit from BuilderStage. RetryStage.GetStageNames / RepeatStage.GetStageNames is a dirty hack imho)\\n\\nI propose letting this CL in with simply a TODO here to also handle the case when an exception escapes a stage.\\nI'll work on that and test that separately.\\n\\nSG?\",\n          \"worse!!!!!!! how does setuptools/cliff even do that with the '_' -> ' ' mapping in place?\",\n          \"This is a dumb question (I am only starting to look at this patch). Why not leave 'logical name' of the node, at the api level, and internally, continue to stick with our node_uuid?\\n \\n Eg, can't you get the node's uuid from rpc_node?\"\n        ],\n        \"semantic_type\": \"\",\n        \"description\": \"\"\n      }\n    },\n    {\n      \"column\": \"is_toxic\",\n      \"properties\": {\n        \"dtype\": \"number\",\n        \"std\": 0,\n        \"min\": 0,\n        \"max\": 1,\n        \"num_unique_values\": 2,\n        \"samples\": [\n          1,\n          0\n        ],\n        \"semantic_type\": \"\",\n        \"description\": \"\"\n      }\n    }\n  ]\n}"
            }
          },
          "metadata": {},
          "execution_count": 52
        }
      ]
    },
    {
      "cell_type": "markdown",
      "source": [
        "### Basic statistics\n",
        "\n",
        "Next, let's determine what percentage of the dataset contains toxic comments.\n",
        "\n",
        "1. Find the total number of comments in the dataset. (Hint: this corresponds to the number of rows in the dataframe, you can find a list of helpful functions you can do on DataFrames [here](https://pandas.pydata.org/pandas-docs/stable/reference/frame.html)).\n",
        "\n",
        "2. Find how many toxic comments there are. There are many ways to do this. Since toxic comments have 1's in their 'is_toxic' column, one way is to sum up the number of 1s in the columns of the dataframe. To get a list of all the values in the DataFrame, use [DataFrame.values](https://pandas.pydata.org/docs/reference/api/pandas.DataFrame.values.html#pandas-dataframe-values\n",
        ").\n",
        "\n"
      ],
      "metadata": {
        "id": "9Xo9yU_OcE0_"
      }
    },
    {
      "cell_type": "code",
      "source": [
        "# Let's examine some basic statistics.\n",
        "\n",
        "# Return the total number of comments in the dataset.\n",
        "def total_comments(dataframe):\n",
        "  return len(dataframe)\n",
        "\n",
        "# Return how many toxic comments there are in the database.\n",
        "#   Hint: Iterate through the DataFrame.values and sum the 'is_toxic' value.\n",
        "def toxic_comments(dataframe):\n",
        "  return np.sum(dataframe['is_toxic']> 0)\n",
        "\n",
        "# Calculate the percentage of toxic comments in the database.\n",
        "print('{:02.4}% of the database is toxic comments'.format(100 * toxic_comments(toxic_df) / total_comments(toxic_df)))"
      ],
      "metadata": {
        "colab": {
          "base_uri": "https://localhost:8080/"
        },
        "id": "RIOGNibbYRFD",
        "outputId": "b0adc736-0db1-4cf9-9fed-2330bab13bd7"
      },
      "execution_count": null,
      "outputs": [
        {
          "output_type": "stream",
          "name": "stdout",
          "text": [
            "19.12% of the database is toxic comments\n"
          ]
        }
      ]
    },
    {
      "cell_type": "markdown",
      "source": [
        "Let's pick out some toxic comments and read them to see what they're like.\n",
        "\n",
        "Iterate through the DataFrame and print out the first 5 toxic comments:"
      ],
      "metadata": {
        "id": "vAc1T1Jbczw5"
      }
    },
    {
      "cell_type": "code",
      "source": [
        "# Function to return the first 20 toxic comments\n",
        "def first_toxic_comments(dataframe):\n",
        "    # Filter the dataframe to get only the toxic comments\n",
        "    toxic_comments = dataframe[dataframe['is_toxic'] == 1]\n",
        "    # Select the first 20 toxic comments\n",
        "    first_20_toxic_comments = toxic_comments['message'].head(20)\n",
        "    return first_20_toxic_comments\n",
        "\n",
        "# Example DataFrame for testing\n",
        "# toxic_df = pd.DataFrame({'comment': [...], 'toxicity': [...]})\n",
        "\n",
        "comments = first_toxic_comments(toxic_df)\n",
        "for i in range(6):\n",
        "    print('{0}. {1}'.format(i, comments.iloc[i]))\n"
      ],
      "metadata": {
        "colab": {
          "base_uri": "https://localhost:8080/"
        },
        "id": "EUPItLweb_0W",
        "outputId": "5732c918-faad-45dc-fb5b-e8c314398781"
      },
      "execution_count": null,
      "outputs": [
        {
          "output_type": "stream",
          "name": "stdout",
          "text": [
            "0. Yuck. Use %.70s, which will do this more gracefully\n",
            "1. function keyword is a bashism and IMHO looks ugly compared to 'usage() {'.\n",
            "2. For this, you'd just check the whether the size of |entries| is === 1. Another option coul dbe to move the checks to the caller, but that might be more clumsy.\n",
            "3. In the future, we should look into seeing if we make this a little cleaner instead of a crap load of info() lines.\n",
            "4. the name is ugly, what can't it be openstack-ec2-api-service?\n",
            "5. lazy-lazy =)\n"
          ]
        }
      ]
    },
    {
      "cell_type": "markdown",
      "source": [
        "What are some things you notice about the comments?\n",
        "\n",
        "If you wanted to clean the data, what things would you do to make sure the data was uniform and easy for the model to analyze?"
      ],
      "metadata": {
        "id": "yDo4zFI5dt2V"
      }
    },
    {
      "cell_type": "markdown",
      "source": [
        "## Preprocess the dataset\n",
        "\n",
        "Goal: In this section, we will want to perform some pre-processing on the code review text, so that we will the inputs to the model will be more uniform and the model will have a better chance and finding common patterns and context.\n",
        "\n",
        "In the previous section, you saw some example of the code review comments. We may want to:\n",
        "1. Lowercase everything\n",
        "2. Remove punctuations, extra spaces and tabs.\n",
        "3. Expand contractions (\"isn't\" to \"is not\").\n",
        "4. \"Normalize\" words so that things like \"working\" and \"work\" are the same.\n",
        "5. Remove words with little meaning like \"the\" and \"as\".\n",
        "6. Convert all numbers to the same thing (like a word \"num\").\n",
        "\n",
        "After this, we will also need some way to represent each list of normalized words in the code review as numerical data so that the machine learning model can understand it. There are many choices for how to do this (this is called \"Feature Extraction\") and we will focus on one method.\n",
        "\n",
        "We will chunk these tasks up into three tasks:\n",
        "1. Cleaning.\n",
        "2. Word Stemming.\n",
        "3. Feature Extraction.\n"
      ],
      "metadata": {
        "id": "6L3E4CGI6s-n"
      }
    },
    {
      "cell_type": "markdown",
      "source": [
        "## Data Cleaning\n",
        "\n",
        "In this section, we will cover some of the tasks above.\n",
        "* Lowercasing\n",
        "* Remove punctuation and whitespace\n",
        "* Convert all numbers to the word \"num\".\n",
        "* Remove stopwords (e.g. \"the\", \"and\").\n",
        "\n",
        "Hints:\n",
        "* The Python string library provides a list of [strings.punctuation](https://docs.python.org/3/library/string.html#string.punctuation).\n",
        "* You can match all numbers by using [regular expressions](https://www.regular-expressions.info/quickstart.html).\n",
        "* The [nltk](https://www.nltk.org/index.html) package contains a list of stopwords by language."
      ],
      "metadata": {
        "id": "4Sac9vgOo9BP"
      }
    },
    {
      "cell_type": "code",
      "source": [
        "# Clean Data\n",
        "\n",
        "# Make it lowercase\n",
        "toxic_df['message'] = toxic_df['message'].str.lower()\n",
        "\n",
        "# Convert 'message' rows to strings\n",
        "toxic_df['message'] = toxic_df['message'].astype(str)\n",
        "\n",
        "# Expand contractions\n",
        "contractions_dict = {\n",
        "    \"can't\": \"cannot\",\n",
        "    \"won't\": \"will not\",\n",
        "    \"n't\": \" not\",\n",
        "    \"'re\": \" are\",\n",
        "    \"'s\": \" is\",\n",
        "    \"'d\": \" would\",\n",
        "    \"'ll\": \" will\",\n",
        "    \"'t\": \" not\",\n",
        "    \"'ve\": \" have\",\n",
        "    \"'m\": \" am\"\n",
        "}\n",
        "\n",
        "contractions_re = re.compile('(%s)'%'|'.join(contractions_dict.keys()))\n",
        "\n",
        "def expand_contractions(s, contractions_dict=contractions_dict):\n",
        "  def replace(match):\n",
        "    return contractions_dict[match.group(0)]\n",
        "  return contractions_re.sub(replace, s)\n",
        "\n",
        "# Expand contractions\n",
        "toxic_df['message'] = toxic_df['message'].apply(lambda x: expand_contractions(x, contractions_dict))\n",
        "print(toxic_df)\n",
        "\n",
        "# Remove punctuation\n",
        "toxic_df['message'] = toxic_df['message'].apply(lambda x: re.sub('[^A-Za-z0-9]', ' ', x))\n",
        "\n",
        "# Remove whitespace\n",
        "# Continue, but let's check if this one here is correct because I don't think it removed everything.\n",
        "toxic_df['message'] = toxic_df['message'].apply(lambda x: re.sub('[\\s]', ' ', x))\n",
        "\n",
        "\n",
        "# Stemming the words\n",
        "# Function to stem words in a message\n",
        "# Initialize the SnowballStemmer\n",
        "\n",
        "sb = SnowballStemmer('english')\n",
        "def stem_message(message):\n",
        "    words = message.split()  # Split message into words\n",
        "    stemmed_words = [sb.stem(word) for word in words]  # Stem each word\n",
        "    return ' '.join(stemmed_words)  # Join stemmed words back into a single string\n",
        "\n",
        "# Apply the stemming\n",
        "toxic_df['message'] = toxic_df['message'].apply(stem_message)\n",
        "# You can check with the following code, but it will be a bunch of words\n",
        "#print(toxic_df['message'])\n",
        "\n",
        "# Remove stopwords (e.g. \"the\", \"and\")\n",
        "# Initialize Scikit-learn stopword\n",
        "stop = text.ENGLISH_STOP_WORDS\n",
        "\n",
        "# Exclude the stopwords from the dataset\n",
        "toxic_df['message'] = toxic_df['message'].apply(lambda x: ' '.join([word for word in x.split() if word not in (stop)]))\n",
        "\n",
        "\n",
        "# Convert all numbers to the word \"num\".\n",
        "# Function to replace numbers with the word \"num\"\n",
        "def replace_numbers(text):\n",
        "    return re.sub(r'\\d+', 'num', text)\n",
        "\n",
        "# Replace numbers with \"num\"\n",
        "toxic_df['message'] = toxic_df['message'].apply(replace_numbers)\n"
      ],
      "metadata": {
        "id": "ebDAxwlvAWy3",
        "colab": {
          "base_uri": "https://localhost:8080/"
        },
        "outputId": "1edba743-0560-4315-cceb-e95d84dd6837"
      },
      "execution_count": null,
      "outputs": [
        {
          "output_type": "stream",
          "name": "stdout",
          "text": [
            "                                                 message  is_toxic\n",
            "0      this and below assignments also should be removed         0\n",
            "1              this should be flavor_id = self.flavor_id         0\n",
            "2                         bool session_adopted_ = false;         0\n",
            "3      nit: starting c++11, this could be done direct...         0\n",
            "4      i am confused.\\n \\n this is the tar process we...         0\n",
            "...                                                  ...       ...\n",
            "19646  amazing!!! i bet that contributed a lot to our...         0\n",
            "19647                                        great catch         0\n",
            "19648                             wow, this is amazing.          0\n",
            "19649                                   this is awesome.         0\n",
            "19650  cannot wait for this! seeing the nuances there...         0\n",
            "\n",
            "[19651 rows x 2 columns]\n"
          ]
        }
      ]
    },
    {
      "cell_type": "code",
      "source": [
        "class FeatureExtractor:\n",
        "    def __init__(self):\n",
        "      self.model = None\n",
        "      return\n",
        "\n",
        "    def extract(self, stemmed_messages):\n",
        "    # Create a TF-IDF model and run fit if we don't have one\n",
        "      if self.model == None:\n",
        "        tfidf = TfidfVectorizer() #Create object\n",
        "        result = tfidf.fit_transform(stemmed_messages) # Get tf-df values\n",
        "\n",
        "        # Save the model into the feature extractor\n",
        "        self.model = tfidf\n",
        "        return result\n",
        "\n",
        "      # Extract features from the messages with the model\n",
        "      extracted = self.model.transform(stemmed_messages)\n",
        "      return extracted"
      ],
      "metadata": {
        "id": "6YmKg8dBDK2n"
      },
      "execution_count": null,
      "outputs": []
    },
    {
      "cell_type": "code",
      "source": [
        "# Get the stemmed messages from the toxic_df\n",
        "stemmed_messages = toxic_df['message']\n",
        "\n",
        "# Create the feature extractor and extract\n",
        "feature_extractor = FeatureExtractor()\n",
        "feature_vectors = feature_extractor.extract(stemmed_messages)\n",
        "print(feature_vectors)\n"
      ],
      "metadata": {
        "colab": {
          "base_uri": "https://localhost:8080/"
        },
        "id": "cQF4-nL3wYAO",
        "outputId": "1349d68e-a724-4a3f-8525-dbe11cd0aa97"
      },
      "execution_count": null,
      "outputs": [
        {
          "output_type": "stream",
          "name": "stdout",
          "text": [
            "  (0, 8438)\t0.45761601691523784\n",
            "  (0, 571)\t0.8891499204648408\n",
            "  (1, 9003)\t0.24273815730946038\n",
            "  (1, 4528)\t0.5032997501018988\n",
            "  (1, 3452)\t0.8293175197313595\n",
            "  (2, 3279)\t0.36923245911686126\n",
            "  (2, 144)\t0.6046753782950489\n",
            "  (2, 9069)\t0.5192926350015039\n",
            "  (2, 1015)\t0.47788098649292343\n",
            "  (3, 10296)\t0.4229515539093423\n",
            "  (3, 2252)\t0.44245992588223965\n",
            "  (3, 2479)\t0.3670971798703047\n",
            "  (3, 6893)\t0.21041683246905823\n",
            "  (3, 9641)\t0.33617520601322637\n",
            "  (3, 6710)\t0.270058227916316\n",
            "  (3, 3279)\t0.311973539554391\n",
            "  (3, 1015)\t0.4037733388839359\n",
            "  (4, 9831)\t0.28799543170788383\n",
            "  (4, 3411)\t0.28657051389284244\n",
            "  (4, 1665)\t0.15673743534323625\n",
            "  (4, 2224)\t0.24556050590890605\n",
            "  (4, 259)\t0.36662802661700356\n",
            "  (4, 5339)\t0.15810886362325724\n",
            "  (4, 6602)\t0.12920040373092392\n",
            "  (4, 11278)\t0.15057895619212588\n",
            "  :\t:\n",
            "  (19643, 5824)\t0.5319857492223976\n",
            "  (19643, 4082)\t0.5319857492223976\n",
            "  (19643, 3249)\t0.5638279922379742\n",
            "  (19643, 3428)\t0.34070562134702675\n",
            "  (19644, 3288)\t0.7803398243316005\n",
            "  (19644, 7386)\t0.6253557056285062\n",
            "  (19645, 275)\t1.0\n",
            "  (19646, 8627)\t0.4342909665233639\n",
            "  (19646, 9379)\t0.4342909665233639\n",
            "  (19646, 1877)\t0.4170150409088375\n",
            "  (19646, 877)\t0.4170150409088375\n",
            "  (19646, 275)\t0.36571655876201137\n",
            "  (19646, 6696)\t0.26019701509135257\n",
            "  (19646, 5819)\t0.2711614576019767\n",
            "  (19647, 4082)\t0.7834035734816431\n",
            "  (19647, 1303)\t0.6215133474481397\n",
            "  (19648, 275)\t0.7662743131662278\n",
            "  (19648, 11435)\t0.6425135617102767\n",
            "  (19649, 707)\t1.0\n",
            "  (19650, 1664)\t0.5015881294753592\n",
            "  (19650, 6879)\t0.5015881294753592\n",
            "  (19650, 275)\t0.42238752073544217\n",
            "  (19650, 171)\t0.3699929935217812\n",
            "  (19650, 11155)\t0.29809614882503294\n",
            "  (19650, 6913)\t0.30438684246573805\n"
          ]
        }
      ]
    },
    {
      "cell_type": "markdown",
      "source": [
        "#Training\n"
      ],
      "metadata": {
        "id": "hFaAJXl0yDJw"
      }
    },
    {
      "cell_type": "markdown",
      "source": [],
      "metadata": {
        "id": "Yw1b8wGRyMP6"
      }
    },
    {
      "cell_type": "code",
      "source": [
        "from sklearn.svm import SVC\n",
        "\n",
        "# Train the SVC model.\n",
        "# Get the is_toxic row\n",
        "is_toxic = toxic_df['is_toxic']\n",
        "model = SVC(kernel='linear', probability=True).fit(feature_vectors, is_toxic)"
      ],
      "metadata": {
        "id": "rtAvUisdyhk5"
      },
      "execution_count": null,
      "outputs": []
    },
    {
      "cell_type": "code",
      "source": [
        "def predict(message, model, feature_extractor):\n",
        "  # Extract features\n",
        "  feature_message = feature_extractor.extract(message)\n",
        "\n",
        "  # predict hate speech messages\n",
        "  pred = model.predict(feature_message)\n",
        "  score = model.predict_proba(feature_message)\n",
        "  return pred, score\n",
        "\n",
        "message = [\"this is toxic code\"] # toxic (1) .5\n",
        "print(predict(message, model, feature_extractor))"
      ],
      "metadata": {
        "id": "fXCpjgTszyTr",
        "colab": {
          "base_uri": "https://localhost:8080/"
        },
        "outputId": "fb0dda00-9e75-4d71-c93a-1a98f9f1d060"
      },
      "execution_count": null,
      "outputs": [
        {
          "output_type": "stream",
          "name": "stdout",
          "text": [
            "(array([0]), array([[0.92554887, 0.07445113]]))\n"
          ]
        }
      ]
    },
    {
      "cell_type": "markdown",
      "source": [],
      "metadata": {
        "id": "CqhhRPL01yRB"
      }
    }
  ]
}